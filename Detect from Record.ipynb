{
 "cells": [
  {
   "cell_type": "code",
   "execution_count": 1,
   "metadata": {
    "colab": {
     "base_uri": "https://localhost:8080/"
    },
    "executionInfo": {
     "elapsed": 521,
     "status": "ok",
     "timestamp": 1636221662218,
     "user": {
      "displayName": "Zanjabila _",
      "photoUrl": "https://lh3.googleusercontent.com/a/default-user=s64",
      "userId": "18022974806779372296"
     },
     "user_tz": -420
    },
    "id": "qsQageLbSN65",
    "outputId": "16e86ccd-98e4-4713-88ff-e242f6e5d9ed"
   },
   "outputs": [
    {
     "name": "stdout",
     "output_type": "stream",
     "text": [
      "Drive already mounted at /content/gdrive; to attempt to forcibly remount, call drive.mount(\"/content/gdrive\", force_remount=True).\n"
     ]
    }
   ],
   "source": [
    "from google.colab import drive\n",
    "drive.mount('/content/gdrive')"
   ]
  },
  {
   "cell_type": "code",
   "execution_count": 2,
   "metadata": {
    "colab": {
     "base_uri": "https://localhost:8080/"
    },
    "executionInfo": {
     "elapsed": 23,
     "status": "ok",
     "timestamp": 1636221662851,
     "user": {
      "displayName": "Zanjabila _",
      "photoUrl": "https://lh3.googleusercontent.com/a/default-user=s64",
      "userId": "18022974806779372296"
     },
     "user_tz": -420
    },
    "id": "yjiqEA1_SSSS",
    "outputId": "a4a294fd-e2a2-4ecb-c6fe-37dd7b77d74b"
   },
   "outputs": [
    {
     "name": "stdout",
     "output_type": "stream",
     "text": [
      "/content/gdrive/MyDrive/cough_01/Test Code 1\n"
     ]
    }
   ],
   "source": [
    "%cd /content/gdrive/MyDrive/cough_01/Test Code 1"
   ]
  },
  {
   "cell_type": "code",
   "execution_count": 1,
   "metadata": {
    "executionInfo": {
     "elapsed": 16,
     "status": "ok",
     "timestamp": 1636221662857,
     "user": {
      "displayName": "Zanjabila _",
      "photoUrl": "https://lh3.googleusercontent.com/a/default-user=s64",
      "userId": "18022974806779372296"
     },
     "user_tz": -420
    },
    "id": "boBBEWglSmcU"
   },
   "outputs": [],
   "source": [
    "import sounddevice as sd\n",
    "from scipy.io.wavfile import write"
   ]
  },
  {
   "cell_type": "code",
   "execution_count": 2,
   "metadata": {
    "executionInfo": {
     "elapsed": 661,
     "status": "ok",
     "timestamp": 1636221667257,
     "user": {
      "displayName": "Zanjabila _",
      "photoUrl": "https://lh3.googleusercontent.com/a/default-user=s64",
      "userId": "18022974806779372296"
     },
     "user_tz": -420
    },
    "id": "tCfFVxy7THH6"
   },
   "outputs": [
    {
     "ename": "ModuleNotFoundError",
     "evalue": "No module named 'google.colab'",
     "output_type": "error",
     "traceback": [
      "\u001b[0;31m---------------------------------------------------------------------------\u001b[0m",
      "\u001b[0;31mModuleNotFoundError\u001b[0m                       Traceback (most recent call last)",
      "\u001b[0;32m/tmp/ipykernel_12548/1977023759.py\u001b[0m in \u001b[0;36m<module>\u001b[0;34m\u001b[0m\n\u001b[1;32m      1\u001b[0m \u001b[0;31m# all imports\u001b[0m\u001b[0;34m\u001b[0m\u001b[0;34m\u001b[0m\u001b[0m\n\u001b[1;32m      2\u001b[0m \u001b[0;32mfrom\u001b[0m \u001b[0mIPython\u001b[0m\u001b[0;34m.\u001b[0m\u001b[0mdisplay\u001b[0m \u001b[0;32mimport\u001b[0m \u001b[0mJavascript\u001b[0m\u001b[0;34m\u001b[0m\u001b[0;34m\u001b[0m\u001b[0m\n\u001b[0;32m----> 3\u001b[0;31m \u001b[0;32mfrom\u001b[0m \u001b[0mgoogle\u001b[0m\u001b[0;34m.\u001b[0m\u001b[0mcolab\u001b[0m \u001b[0;32mimport\u001b[0m \u001b[0moutput\u001b[0m\u001b[0;34m\u001b[0m\u001b[0;34m\u001b[0m\u001b[0m\n\u001b[0m\u001b[1;32m      4\u001b[0m \u001b[0;32mfrom\u001b[0m \u001b[0mbase64\u001b[0m \u001b[0;32mimport\u001b[0m \u001b[0mb64decode\u001b[0m\u001b[0;34m\u001b[0m\u001b[0;34m\u001b[0m\u001b[0m\n\u001b[1;32m      5\u001b[0m \u001b[0;34m\u001b[0m\u001b[0m\n",
      "\u001b[0;31mModuleNotFoundError\u001b[0m: No module named 'google.colab'"
     ]
    }
   ],
   "source": [
    "# all imports\n",
    "from IPython.display import Javascript\n",
    "from google.colab import output\n",
    "from base64 import b64decode\n",
    "\n",
    "RECORD = \"\"\"\n",
    "const sleep  = time => new Promise(resolve => setTimeout(resolve, time))\n",
    "const b2text = blob => new Promise(resolve => {\n",
    "  const reader = new FileReader()\n",
    "  reader.onloadend = e => resolve(e.srcElement.result)\n",
    "  reader.readAsDataURL(blob)\n",
    "})\n",
    "var record = time => new Promise(async resolve => {\n",
    "  stream = await navigator.mediaDevices.getUserMedia({ audio: true })\n",
    "  recorder = new MediaRecorder(stream)\n",
    "  chunks = []\n",
    "  recorder.ondataavailable = e => chunks.push(e.data)\n",
    "  recorder.start()\n",
    "  await sleep(time)\n",
    "  recorder.onstop = async ()=>{\n",
    "    blob = new Blob(chunks)\n",
    "    text = await b2text(blob)\n",
    "    resolve(text)\n",
    "  }\n",
    "  recorder.stop()\n",
    "})\n",
    "\"\"\"\n",
    "\n",
    "def record(sec=3):\n",
    "  display(Javascript(RECORD))\n",
    "  s = output.eval_js('record(%d)' % (sec*1000))\n",
    "  b = b64decode(s.split(',')[1])\n",
    "  with open('audio.wav','wb') as f:\n",
    "    f.write(b)\n",
    "  return 'audio.wav'  # or webm ?"
   ]
  },
  {
   "cell_type": "code",
   "execution_count": 3,
   "metadata": {
    "executionInfo": {
     "elapsed": 1177,
     "status": "ok",
     "timestamp": 1636221683127,
     "user": {
      "displayName": "Zanjabila _",
      "photoUrl": "https://lh3.googleusercontent.com/a/default-user=s64",
      "userId": "18022974806779372296"
     },
     "user_tz": -420
    },
    "id": "3kmxxrtoW1r9"
   },
   "outputs": [],
   "source": [
    "import librosa as lb\n",
    "import numpy as np\n",
    "import tensorflow as tf\n",
    "from tensorflow import keras"
   ]
  },
  {
   "cell_type": "code",
   "execution_count": 4,
   "metadata": {
    "colab": {
     "base_uri": "https://localhost:8080/",
     "height": 17
    },
    "executionInfo": {
     "elapsed": 6771,
     "status": "ok",
     "timestamp": 1636222817476,
     "user": {
      "displayName": "Zanjabila _",
      "photoUrl": "https://lh3.googleusercontent.com/a/default-user=s64",
      "userId": "18022974806779372296"
     },
     "user_tz": -420
    },
    "id": "vxdWpJ9oeqyP",
    "outputId": "72dac565-afc7-47be-917c-6c5554190931"
   },
   "outputs": [
    {
     "ename": "NameError",
     "evalue": "name 'record' is not defined",
     "output_type": "error",
     "traceback": [
      "\u001b[0;31m---------------------------------------------------------------------------\u001b[0m",
      "\u001b[0;31mNameError\u001b[0m                                 Traceback (most recent call last)",
      "\u001b[0;32m/tmp/ipykernel_12548/2470240339.py\u001b[0m in \u001b[0;36m<module>\u001b[0;34m\u001b[0m\n\u001b[0;32m----> 1\u001b[0;31m \u001b[0maudio\u001b[0m \u001b[0;34m=\u001b[0m \u001b[0mrecord\u001b[0m\u001b[0;34m(\u001b[0m\u001b[0;34m)\u001b[0m\u001b[0;34m\u001b[0m\u001b[0;34m\u001b[0m\u001b[0m\n\u001b[0m",
      "\u001b[0;31mNameError\u001b[0m: name 'record' is not defined"
     ]
    }
   ],
   "source": [
    "audio = record()"
   ]
  },
  {
   "cell_type": "code",
   "execution_count": 18,
   "metadata": {
    "colab": {
     "base_uri": "https://localhost:8080/"
    },
    "executionInfo": {
     "elapsed": 1105,
     "status": "ok",
     "timestamp": 1636222822266,
     "user": {
      "displayName": "Zanjabila _",
      "photoUrl": "https://lh3.googleusercontent.com/a/default-user=s64",
      "userId": "18022974806779372296"
     },
     "user_tz": -420
    },
    "id": "x5AkLYU9W-x6",
    "outputId": "de2c6e17-d835-4e18-fd9b-42024db11a1c"
   },
   "outputs": [
    {
     "name": "stderr",
     "output_type": "stream",
     "text": [
      "/usr/local/lib/python3.7/dist-packages/librosa/core/audio.py:165: UserWarning: PySoundFile failed. Trying audioread instead.\n",
      "  warnings.warn(\"PySoundFile failed. Trying audioread instead.\")\n",
      "/usr/local/lib/python3.7/dist-packages/librosa/core/spectrum.py:224: UserWarning: n_fft=1024 is too small for input signal of length=1013\n",
      "  n_fft, y.shape[-1]\n"
     ]
    }
   ],
   "source": [
    "sound, sample_rate = lb.load(audio)\n",
    "stft = np.abs(lb.stft(sound))  \n",
    "mfccs = np.mean(lb.feature.mfcc(y=sound, sr=sample_rate, n_mfcc=40),axis=1)\n",
    "chroma = np.mean(lb.feature.chroma_stft(S=stft, sr=sample_rate),axis=1)\n",
    "mel = np.mean(lb.feature.melspectrogram(sound, sr=sample_rate),axis=1)\n",
    "contrast = np.mean(lb.feature.spectral_contrast(S=stft, sr=sample_rate),axis=1)\n",
    "tonnetz = np.mean(lb.feature.tonnetz(y=lb.effects.harmonic(sound), sr=sample_rate),axis=1)\n",
    "    \n",
    "concat = np.concatenate((mfccs,chroma,mel,contrast,tonnetz))"
   ]
  },
  {
   "cell_type": "code",
   "execution_count": 19,
   "metadata": {
    "executionInfo": {
     "elapsed": 561,
     "status": "ok",
     "timestamp": 1636222827425,
     "user": {
      "displayName": "Zanjabila _",
      "photoUrl": "https://lh3.googleusercontent.com/a/default-user=s64",
      "userId": "18022974806779372296"
     },
     "user_tz": -420
    },
    "id": "Xw4sFOUQYWJk"
   },
   "outputs": [],
   "source": [
    "model = keras.models.load_model(\"exp-2_1.h5\")"
   ]
  },
  {
   "cell_type": "code",
   "execution_count": 20,
   "metadata": {
    "executionInfo": {
     "elapsed": 10,
     "status": "ok",
     "timestamp": 1636222829074,
     "user": {
      "displayName": "Zanjabila _",
      "photoUrl": "https://lh3.googleusercontent.com/a/default-user=s64",
      "userId": "18022974806779372296"
     },
     "user_tz": -420
    },
    "id": "_57XGHEdYYls"
   },
   "outputs": [],
   "source": [
    "images_tes = np.array(concat)"
   ]
  },
  {
   "cell_type": "code",
   "execution_count": 21,
   "metadata": {
    "colab": {
     "base_uri": "https://localhost:8080/"
    },
    "executionInfo": {
     "elapsed": 489,
     "status": "ok",
     "timestamp": 1636222830375,
     "user": {
      "displayName": "Zanjabila _",
      "photoUrl": "https://lh3.googleusercontent.com/a/default-user=s64",
      "userId": "18022974806779372296"
     },
     "user_tz": -420
    },
    "id": "Ce8Nw0LRYdop",
    "outputId": "8ec778d7-2e45-4678-9fc6-986d8cda7d63"
   },
   "outputs": [
    {
     "name": "stdout",
     "output_type": "stream",
     "text": [
      "(1, 193, 1)\n"
     ]
    }
   ],
   "source": [
    "images_tes = np.reshape(images_tes, (1, images_tes.shape[0], 1))\n",
    "print(images_tes.shape)"
   ]
  },
  {
   "cell_type": "code",
   "execution_count": 22,
   "metadata": {
    "executionInfo": {
     "elapsed": 19,
     "status": "ok",
     "timestamp": 1636222831112,
     "user": {
      "displayName": "Zanjabila _",
      "photoUrl": "https://lh3.googleusercontent.com/a/default-user=s64",
      "userId": "18022974806779372296"
     },
     "user_tz": -420
    },
    "id": "qOtzI6FHYfZi"
   },
   "outputs": [],
   "source": [
    "preds = model.predict(images_tes)"
   ]
  },
  {
   "cell_type": "code",
   "execution_count": 23,
   "metadata": {
    "executionInfo": {
     "elapsed": 18,
     "status": "ok",
     "timestamp": 1636222832300,
     "user": {
      "displayName": "Zanjabila _",
      "photoUrl": "https://lh3.googleusercontent.com/a/default-user=s64",
      "userId": "18022974806779372296"
     },
     "user_tz": -420
    },
    "id": "zIh37HV6YoIx"
   },
   "outputs": [],
   "source": [
    "classpreds = np.argmax(preds, axis=1) # predicted classes "
   ]
  },
  {
   "cell_type": "code",
   "execution_count": 24,
   "metadata": {
    "colab": {
     "base_uri": "https://localhost:8080/"
    },
    "executionInfo": {
     "elapsed": 1181,
     "status": "ok",
     "timestamp": 1636222835232,
     "user": {
      "displayName": "Zanjabila _",
      "photoUrl": "https://lh3.googleusercontent.com/a/default-user=s64",
      "userId": "18022974806779372296"
     },
     "user_tz": -420
    },
    "id": "XeCfV23FYzjX",
    "outputId": "9c95692c-caea-428f-e150-ff0bda9ca027"
   },
   "outputs": [
    {
     "name": "stdout",
     "output_type": "stream",
     "text": [
      "[1]\n"
     ]
    }
   ],
   "source": [
    "print(classpreds)"
   ]
  },
  {
   "cell_type": "code",
   "execution_count": 25,
   "metadata": {
    "colab": {
     "base_uri": "https://localhost:8080/"
    },
    "executionInfo": {
     "elapsed": 590,
     "status": "ok",
     "timestamp": 1636222837457,
     "user": {
      "displayName": "Zanjabila _",
      "photoUrl": "https://lh3.googleusercontent.com/a/default-user=s64",
      "userId": "18022974806779372296"
     },
     "user_tz": -420
    },
    "id": "sR3WdyGjY2k1",
    "outputId": "996e1e43-69eb-4e51-9c57-73e0c3625376"
   },
   "outputs": [
    {
     "name": "stdout",
     "output_type": "stream",
     "text": [
      "talk\n"
     ]
    }
   ],
   "source": [
    " if (classpreds == 0):\n",
    "        print(\"positive\")\n",
    "elif (classpreds== 1):\n",
    "        print(\"negative\")"
   ]
  },
  {
   "cell_type": "code",
   "execution_count": null,
   "metadata": {
    "id": "wKZqLOAEapXp"
   },
   "outputs": [],
   "source": []
  }
 ],
 "metadata": {
  "colab": {
   "authorship_tag": "ABX9TyND13QQEnAHVNNTz/e4Q9dZ",
   "collapsed_sections": [],
   "name": "Detect from Record",
   "provenance": []
  },
  "kernelspec": {
   "display_name": "Python 3 (ipykernel)",
   "language": "python",
   "name": "python3"
  },
  "language_info": {
   "codemirror_mode": {
    "name": "ipython",
    "version": 3
   },
   "file_extension": ".py",
   "mimetype": "text/x-python",
   "name": "python",
   "nbconvert_exporter": "python",
   "pygments_lexer": "ipython3",
   "version": "3.9.7"
  }
 },
 "nbformat": 4,
 "nbformat_minor": 1
}
